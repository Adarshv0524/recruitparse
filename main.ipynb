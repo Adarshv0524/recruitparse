{
 "cells": [
  {
   "cell_type": "code",
   "execution_count": 2,
   "id": "9d73cf06",
   "metadata": {},
   "outputs": [
    {
     "name": "stdout",
     "output_type": "stream",
     "text": [
      "Downloading from https://www.kaggle.com/api/v1/datasets/download/rasho330/job-application-email-anonymized-and-feature-rich?dataset_version_number=2...\n"
     ]
    },
    {
     "name": "stderr",
     "output_type": "stream",
     "text": [
      "100%|██████████| 106k/106k [00:00<00:00, 191kB/s]"
     ]
    },
    {
     "name": "stdout",
     "output_type": "stream",
     "text": [
      "Extracting files...\n",
      "Path to dataset files: C:\\Users\\AMAN\\.cache\\kagglehub\\datasets\\rasho330\\job-application-email-anonymized-and-feature-rich\\versions\\2\n"
     ]
    },
    {
     "name": "stderr",
     "output_type": "stream",
     "text": [
      "\n"
     ]
    }
   ],
   "source": [
    "import kagglehub\n",
    "\n",
    "# Download latest version\n",
    "path = kagglehub.dataset_download(\"rasho330/job-application-email-anonymized-and-feature-rich\")\n",
    "\n",
    "print(\"Path to dataset files:\", path)"
   ]
  },
  {
   "cell_type": "code",
   "execution_count": 4,
   "id": "2ad26ad0",
   "metadata": {},
   "outputs": [
    {
     "name": "stdout",
     "output_type": "stream",
     "text": [
      "     Unnamed: 0                                            sender  \\\n",
      "158         158                    no-reply@us.greenhouse-mail.io   \n",
      "329         329                             walmart@myworkday.com   \n",
      "335         335  Industry Dive <notification@smartrecruiters.com>   \n",
      "215         215              LinkedIn <jobs-noreply@linkedin.com>   \n",
      "468         469              LinkedIn <jobs-noreply@linkedin.com>   \n",
      "334         334              LinkedIn <jobs-noreply@linkedin.com>   \n",
      "186         186              LinkedIn <jobs-noreply@linkedin.com>   \n",
      "453         454   Yext Recruiting <no-reply@recruitment.yext.com>   \n",
      "224         224              LinkedIn <jobs-noreply@linkedin.com>   \n",
      "0             0         Tesco Careers <noreply.careers@tesco.com>   \n",
      "\n",
      "                  date      parsed_datetime   date_only  week  month  year  \\\n",
      "158  6/12/24, 12:54 PM  2024-06-12 12:54:00  2024-06-12    24      6  2024   \n",
      "329  3/17/23, 11:43 AM  2023-03-17 11:43:00  2023-03-17    11      3  2023   \n",
      "335    3/9/23, 2:35 PM  2023-03-09 14:35:00  2023-03-09    10      3  2023   \n",
      "215   4/8/24, 12:19 PM  2024-04-08 12:19:00  2024-04-08    15      4  2024   \n",
      "468   3/23/23, 1:21 PM  2023-03-23 13:21:00  2023-03-23    12      3  2023   \n",
      "334    3/9/23, 2:36 PM  2023-03-09 14:36:00  2023-03-09    10      3  2023   \n",
      "186   5/2/24, 10:55 PM  2024-05-02 22:55:00  2024-05-02    18      5  2024   \n",
      "453   3/20/24, 5:01 AM  2024-03-20 05:01:00  2024-03-20    12      3  2024   \n",
      "224   4/7/24, 12:32 PM  2024-04-07 12:32:00  2024-04-07    14      4  2024   \n",
      "0      4/2/25, 1:30 AM  2025-04-02 01:30:00  2025-04-02    14      4  2025   \n",
      "\n",
      "     days_since                                         email_body  \\\n",
      "158         303  Michael Gary Scott,\\nThanks for applying to Da...   \n",
      "329         756  Hi Michael Gary Scott,\\nThank you for applying...   \n",
      "335         764  Hi Michael Gary Scott\\nThanks for your interes...   \n",
      "215         368  Your application was sent to Fable            ...   \n",
      "468         753  We have an update on your Insight Global appli...   \n",
      "334         764  Your application was sent to Amalfi Jets      ...   \n",
      "186         344  Your application was sent to Genesis Global Wo...   \n",
      "453         390  Hi Michael Gary Scott,\\nThank you so much for ...   \n",
      "224         369  Your application was sent to Engtal           ...   \n",
      "0             9  Hello Micheal Gary Scott, \\n \\nWe’ve received ...   \n",
      "\n",
      "                                company  \\\n",
      "158                            Supernal   \n",
      "329                             Walmart   \n",
      "335                       Industry Dive   \n",
      "215                               Fable   \n",
      "468                      Insight Global   \n",
      "334                         Amalfi Jets   \n",
      "186  Genesis Global Workforce Solutions   \n",
      "453                                Yext   \n",
      "224                              Engtal   \n",
      "0                                 Tesco   \n",
      "\n",
      "                                               subject  \n",
      "158                 Thank you for applying to Supernal  \n",
      "329                            Thank you for Applying!  \n",
      "335            Thank you for applying to Industry Dive  \n",
      "215  Michael Gary Scott, your application was sent ...  \n",
      "468  Your application to Jr Data Analyst at Insight...  \n",
      "334  Michael Gary Scott, your application was sent ...  \n",
      "186  Michael Gary Scott, your application was sent ...  \n",
      "453                                   Update from Yext  \n",
      "224  Michael Gary Scott, your application was sent ...  \n",
      "0    Decision Scientist at Tesco: we’ve got your ap...  \n",
      "       Unnamed: 0        week       month         year  days_since\n",
      "count  497.000000  497.000000  497.000000   497.000000  497.000000\n",
      "mean   248.144869   19.209256    4.808853  2023.913481  368.641851\n",
      "std    143.839696   10.362992    2.380550     0.529911  204.477877\n",
      "min      0.000000    2.000000    1.000000  2023.000000    9.000000\n",
      "25%    124.000000   11.000000    3.000000  2024.000000  263.000000\n",
      "50%    248.000000   16.000000    4.000000  2024.000000  341.000000\n",
      "75%    372.000000   28.000000    7.000000  2024.000000  423.000000\n",
      "max    498.000000   49.000000   12.000000  2025.000000  795.000000\n"
     ]
    }
   ],
   "source": [
    "import pandas as pd\n",
    "\n",
    "df = pd.read_csv(\"data/job_app_confirmation_emails_anonymized.csv\")\n",
    "\n",
    "print(df.sample(10))\n",
    "\n",
    "print(df.describe())\n",
    "\n"
   ]
  }
 ],
 "metadata": {
  "kernelspec": {
   "display_name": "venv",
   "language": "python",
   "name": "python3"
  },
  "language_info": {
   "codemirror_mode": {
    "name": "ipython",
    "version": 3
   },
   "file_extension": ".py",
   "mimetype": "text/x-python",
   "name": "python",
   "nbconvert_exporter": "python",
   "pygments_lexer": "ipython3",
   "version": "3.11.0"
  }
 },
 "nbformat": 4,
 "nbformat_minor": 5
}
